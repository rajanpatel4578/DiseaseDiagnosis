{
 "cells": [
  {
   "cell_type": "code",
   "execution_count": 1,
   "id": "77e0c83a",
   "metadata": {},
   "outputs": [
    {
     "ename": "NameError",
     "evalue": "name 'csvFile' is not defined",
     "output_type": "error",
     "traceback": [
      "\u001b[1;31m---------------------------------------------------------------------------\u001b[0m",
      "\u001b[1;31mNameError\u001b[0m                                 Traceback (most recent call last)",
      "\u001b[1;32m~\\AppData\\Local\\Temp/ipykernel_24188/1207049220.py\u001b[0m in \u001b[0;36m<module>\u001b[1;34m\u001b[0m\n\u001b[0;32m      4\u001b[0m \u001b[1;31m# df = pd.read_csv(\"NOTEEVENTS.csv\", nrows=20)\u001b[0m\u001b[1;33m\u001b[0m\u001b[1;33m\u001b[0m\u001b[0m\n\u001b[0;32m      5\u001b[0m \u001b[0mcsvFileNoteEvents\u001b[0m \u001b[1;33m=\u001b[0m \u001b[0mgzip\u001b[0m\u001b[1;33m.\u001b[0m\u001b[0mopen\u001b[0m\u001b[1;33m(\u001b[0m\u001b[1;34m\"NOTEEVENTS.csv.gz\"\u001b[0m\u001b[1;33m,\u001b[0m\u001b[1;34m'rb'\u001b[0m\u001b[1;33m)\u001b[0m\u001b[1;33m\u001b[0m\u001b[1;33m\u001b[0m\u001b[0m\n\u001b[1;32m----> 6\u001b[1;33m \u001b[0mprint\u001b[0m\u001b[1;33m(\u001b[0m\u001b[0mcsvFile\u001b[0m\u001b[1;33m)\u001b[0m\u001b[1;33m\u001b[0m\u001b[1;33m\u001b[0m\u001b[0m\n\u001b[0m\u001b[0;32m      7\u001b[0m \u001b[0mdf\u001b[0m \u001b[1;33m=\u001b[0m \u001b[0mpd\u001b[0m\u001b[1;33m.\u001b[0m\u001b[0mread_csv\u001b[0m\u001b[1;33m(\u001b[0m\u001b[0mcsvFileNoteEvents\u001b[0m\u001b[1;33m,\u001b[0m\u001b[0mlow_memory\u001b[0m \u001b[1;33m=\u001b[0m \u001b[1;32mFalse\u001b[0m\u001b[1;33m)\u001b[0m\u001b[1;33m\u001b[0m\u001b[1;33m\u001b[0m\u001b[0m\n\u001b[0;32m      8\u001b[0m \u001b[0mprint\u001b[0m\u001b[1;33m(\u001b[0m\u001b[0mdf\u001b[0m\u001b[1;33m)\u001b[0m\u001b[1;33m\u001b[0m\u001b[1;33m\u001b[0m\u001b[0m\n",
      "\u001b[1;31mNameError\u001b[0m: name 'csvFile' is not defined"
     ]
    }
   ],
   "source": [
    "import pandas as pd\n",
    "import gzip as gzip\n",
    "\n",
    "# df = pd.read_csv(\"NOTEEVENTS.csv\", nrows=20)\n",
    "csvFileNoteEvents = gzip.open(\"NOTEEVENTS.csv.gz\",'rb')\n",
    "print(csvFileNoteEvents)\n",
    "df = pd.read_csv(csvFileNoteEvents,low_memory = False)\n",
    "print(df)"
   ]
  },
  {
   "cell_type": "code",
   "execution_count": 11,
   "id": "5840fcec",
   "metadata": {},
   "outputs": [],
   "source": [
    "# df1 = df[df[\"HADM_ID\"]==142582]\n",
    "# df1.head()\n",
    "# df1.to_csv(\"temp_NOTEEVENTS2.csv\")\n",
    "df_samples = df.sample(n = 5000)"
   ]
  },
  {
   "cell_type": "code",
   "execution_count": 12,
   "id": "d52437d4",
   "metadata": {},
   "outputs": [],
   "source": [
    "df_events = df_samples[['HADM_ID', 'TEXT']]"
   ]
  },
  {
   "cell_type": "code",
   "execution_count": 14,
   "id": "2b06b330",
   "metadata": {},
   "outputs": [],
   "source": [
    "csvFileAdmissions = gzip.open(\"ADMISSIONS.csv.gz\",'rb')\n",
    "df_adm = pd.read_csv(csvFileAdmissions)\n",
    "df_admissions = df_adm[['HADM_ID', 'SUBJECT_ID', 'ADMITTIME', 'DISCHTIME', 'DIAGNOSIS']]"
   ]
  },
  {
   "cell_type": "code",
   "execution_count": 15,
   "id": "e1e39aa2",
   "metadata": {},
   "outputs": [],
   "source": [
    "df_merge = pd.merge(df_events, df_admissions, on='HADM_ID', how='inner')"
   ]
  },
  {
   "cell_type": "code",
   "execution_count": 16,
   "id": "e4fb9c22",
   "metadata": {},
   "outputs": [
    {
     "ename": "ModuleNotFoundError",
     "evalue": "No module named 'keybert'",
     "output_type": "error",
     "traceback": [
      "\u001b[1;31m---------------------------------------------------------------------------\u001b[0m",
      "\u001b[1;31mModuleNotFoundError\u001b[0m                       Traceback (most recent call last)",
      "\u001b[1;32m~\\AppData\\Local\\Temp/ipykernel_23784/4101187954.py\u001b[0m in \u001b[0;36m<module>\u001b[1;34m\u001b[0m\n\u001b[1;32m----> 1\u001b[1;33m \u001b[1;32mfrom\u001b[0m \u001b[0mkeybert\u001b[0m \u001b[1;32mimport\u001b[0m \u001b[0mKeyBERT\u001b[0m\u001b[1;33m\u001b[0m\u001b[1;33m\u001b[0m\u001b[0m\n\u001b[0m\u001b[0;32m      2\u001b[0m \u001b[1;32mfrom\u001b[0m \u001b[0mflair\u001b[0m\u001b[1;33m.\u001b[0m\u001b[0membeddings\u001b[0m \u001b[1;32mimport\u001b[0m \u001b[0mTransformerDocumentEmbeddings\u001b[0m\u001b[1;33m\u001b[0m\u001b[1;33m\u001b[0m\u001b[0m\n\u001b[0;32m      3\u001b[0m \u001b[1;33m\u001b[0m\u001b[0m\n\u001b[0;32m      4\u001b[0m \u001b[0mroberta\u001b[0m \u001b[1;33m=\u001b[0m \u001b[0mTransformerDocumentEmbeddings\u001b[0m\u001b[1;33m(\u001b[0m\u001b[1;34m'PlanTL-GOB-ES/roberta-base-biomedical-clinical-es'\u001b[0m\u001b[1;33m)\u001b[0m\u001b[1;33m\u001b[0m\u001b[1;33m\u001b[0m\u001b[0m\n\u001b[0;32m      5\u001b[0m \u001b[0mkw_model\u001b[0m \u001b[1;33m=\u001b[0m \u001b[0mKeyBERT\u001b[0m\u001b[1;33m(\u001b[0m\u001b[0mmodel\u001b[0m\u001b[1;33m=\u001b[0m\u001b[0mroberta\u001b[0m\u001b[1;33m)\u001b[0m\u001b[1;33m\u001b[0m\u001b[1;33m\u001b[0m\u001b[0m\n",
      "\u001b[1;31mModuleNotFoundError\u001b[0m: No module named 'keybert'"
     ]
    }
   ],
   "source": [
    "from keybert import KeyBERT\n",
    "from flair.embeddings import TransformerDocumentEmbeddings\n",
    "\n",
    "roberta = TransformerDocumentEmbeddings('PlanTL-GOB-ES/roberta-base-biomedical-clinical-es')\n",
    "kw_model = KeyBERT(model=roberta)"
   ]
  },
  {
   "cell_type": "code",
   "execution_count": null,
   "id": "77e58a22",
   "metadata": {},
   "outputs": [],
   "source": [
    "import re\n",
    "def process_symptoms(text):\n",
    "    text = re.sub(r\"\\[.*\\]\", \" \", text)\n",
    "    text = re.sub(r\"_{2,}\", \" \", text)\n",
    "    text = re.sub(r\"\\n\", \" \", text)\n",
    "    keywords = kw_model.extract_keywords(text, keyphrase_ngram_range=(4, 4), use_mmr=True, diversity=0.5, top_n=20)\n",
    "    symptoms = [x[0] for x in keywords]\n",
    "    symptoms_str = \",\".join(symptoms)\n",
    "    print(\".\")\n",
    "    return symptoms_str"
   ]
  },
  {
   "cell_type": "code",
   "execution_count": null,
   "id": "25d14f11",
   "metadata": {
    "scrolled": true
   },
   "outputs": [],
   "source": [
    "df_merge['SYMPTOMS'] = df_merge['TEXT'].apply(process_symptoms)\n",
    "df_merge"
   ]
  },
  {
   "cell_type": "code",
   "execution_count": null,
   "id": "d296ed28",
   "metadata": {},
   "outputs": [],
   "source": []
  },
  {
   "cell_type": "code",
   "execution_count": null,
   "id": "fb417744",
   "metadata": {},
   "outputs": [],
   "source": []
  }
 ],
 "metadata": {
  "kernelspec": {
   "display_name": "Python 3 (ipykernel)",
   "language": "python",
   "name": "python3"
  },
  "language_info": {
   "codemirror_mode": {
    "name": "ipython",
    "version": 3
   },
   "file_extension": ".py",
   "mimetype": "text/x-python",
   "name": "python",
   "nbconvert_exporter": "python",
   "pygments_lexer": "ipython3",
   "version": "3.9.7"
  }
 },
 "nbformat": 4,
 "nbformat_minor": 5
}
